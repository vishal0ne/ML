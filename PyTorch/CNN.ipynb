{
 "cells": [
  {
   "cell_type": "code",
   "execution_count": 1,
   "id": "df392991",
   "metadata": {},
   "outputs": [
    {
     "name": "stderr",
     "output_type": "stream",
     "text": [
      "C:\\Users\\Vishal\\AppData\\Local\\Temp\\ipykernel_24836\\1545144777.py:9: DeprecationWarning: \n",
      "Pyarrow will become a required dependency of pandas in the next major release of pandas (pandas 3.0),\n",
      "(to allow more performant data types, such as the Arrow string type, and better interoperability with other libraries)\n",
      "but was not found to be installed on your system.\n",
      "If this would cause problems for you,\n",
      "please provide us feedback at https://github.com/pandas-dev/pandas/issues/54466\n",
      "        \n",
      "  import pandas as pd\n"
     ]
    }
   ],
   "source": [
    "import torch\n",
    "import torch.nn as nn\n",
    "import torch.nn.functional as F\n",
    "from torch.utils.data import DataLoader\n",
    "from torchvision import datasets, transforms\n",
    "from torchvision.utils import make_grid\n",
    "\n",
    "import numpy as np\n",
    "import pandas as pd\n",
    "from sklearn.metrics import confusion_matrix\n",
    "import matplotlib.pyplot as plt\n",
    "%matplotlib inline"
   ]
  },
  {
   "cell_type": "code",
   "execution_count": 2,
   "id": "3dc8ae99",
   "metadata": {},
   "outputs": [],
   "source": [
    "#Convert MNIST image files into a tensor of 4-D (no.of images, height, width, color channels)\n",
    "transform = transforms.ToTensor()"
   ]
  },
  {
   "cell_type": "code",
   "execution_count": 3,
   "id": "365575be",
   "metadata": {},
   "outputs": [],
   "source": [
    "# Train data\n",
    "train_data = datasets.MNIST(root='', train=True, download=True, transform=transform) "
   ]
  },
  {
   "cell_type": "code",
   "execution_count": 4,
   "id": "7ed11844",
   "metadata": {},
   "outputs": [],
   "source": [
    "# Test data\n",
    "test_data = datasets.MNIST(root='/cnn_data', train=False, download=True, transform=transform) "
   ]
  },
  {
   "cell_type": "code",
   "execution_count": 5,
   "id": "ea060184",
   "metadata": {},
   "outputs": [
    {
     "data": {
      "text/plain": [
       "Dataset MNIST\n",
       "    Number of datapoints: 60000\n",
       "    Root location: \n",
       "    Split: Train\n",
       "    StandardTransform\n",
       "Transform: ToTensor()"
      ]
     },
     "execution_count": 5,
     "metadata": {},
     "output_type": "execute_result"
    }
   ],
   "source": [
    "train_data"
   ]
  },
  {
   "cell_type": "code",
   "execution_count": 6,
   "id": "7028b242",
   "metadata": {},
   "outputs": [
    {
     "data": {
      "text/plain": [
       "Dataset MNIST\n",
       "    Number of datapoints: 10000\n",
       "    Root location: /cnn_data\n",
       "    Split: Test\n",
       "    StandardTransform\n",
       "Transform: ToTensor()"
      ]
     },
     "execution_count": 6,
     "metadata": {},
     "output_type": "execute_result"
    }
   ],
   "source": [
    "test_data"
   ]
  },
  {
   "cell_type": "code",
   "execution_count": 7,
   "id": "c8a83cb9",
   "metadata": {},
   "outputs": [],
   "source": [
    "# Create small batch size\n",
    "train_loader = DataLoader(train_data, batch_size=10, shuffle=True)\n",
    "test_loader = DataLoader(train_data, batch_size=10, shuffle=False)"
   ]
  },
  {
   "cell_type": "code",
   "execution_count": 8,
   "id": "f95c4a82",
   "metadata": {},
   "outputs": [],
   "source": [
    "# Define our CNN\n",
    "conv1 = nn.Conv2d(1, 6, 3, 1) #input, output/featureMap, kernel_size, stride\n",
    "conv2 = nn.Conv2d(6, 16, 3, 1)"
   ]
  },
  {
   "cell_type": "code",
   "execution_count": 9,
   "id": "23ab954b",
   "metadata": {},
   "outputs": [],
   "source": [
    "# Grab 1 MNIST record\n",
    "for i, (X_Train, y_train) in enumerate(train_data):\n",
    "    break"
   ]
  },
  {
   "cell_type": "code",
   "execution_count": 10,
   "id": "8fb828fb",
   "metadata": {},
   "outputs": [
    {
     "data": {
      "text/plain": [
       "torch.Size([1, 28, 28])"
      ]
     },
     "execution_count": 10,
     "metadata": {},
     "output_type": "execute_result"
    }
   ],
   "source": [
    "X_Train.shape   # 1 image, 28x28 size"
   ]
  },
  {
   "cell_type": "code",
   "execution_count": 11,
   "id": "74794604",
   "metadata": {},
   "outputs": [],
   "source": [
    "#4-d\n",
    "x = X_Train.view(1,1,28,28) # 1 batch of 1 image of 28x28 size"
   ]
  },
  {
   "cell_type": "code",
   "execution_count": 12,
   "id": "ed6d74d1",
   "metadata": {},
   "outputs": [],
   "source": [
    "# Perform our first convolution\n",
    "x = F.relu(conv1(x)) # Rectified linear unit for activaton function"
   ]
  },
  {
   "cell_type": "code",
   "execution_count": 13,
   "id": "6d143a97",
   "metadata": {},
   "outputs": [
    {
     "data": {
      "text/plain": [
       "torch.Size([1, 6, 26, 26])"
      ]
     },
     "execution_count": 13,
     "metadata": {},
     "output_type": "execute_result"
    }
   ],
   "source": [
    "x.shape"
   ]
  },
  {
   "cell_type": "code",
   "execution_count": 14,
   "id": "56a7f59c",
   "metadata": {},
   "outputs": [],
   "source": [
    "# Pass thru polling layer\n",
    "x = F.max_pool2d(x, 2, 2) # kernel of 2x2 and stride of 2"
   ]
  },
  {
   "cell_type": "code",
   "execution_count": 15,
   "id": "6d149417",
   "metadata": {},
   "outputs": [
    {
     "data": {
      "text/plain": [
       "torch.Size([1, 6, 13, 13])"
      ]
     },
     "execution_count": 15,
     "metadata": {},
     "output_type": "execute_result"
    }
   ],
   "source": [
    "x.shape # 26/2 = 13"
   ]
  },
  {
   "cell_type": "code",
   "execution_count": 16,
   "id": "11044fc9",
   "metadata": {},
   "outputs": [],
   "source": [
    "# 2nd convolutional layer\n",
    "x = F.relu(conv2(x))"
   ]
  },
  {
   "cell_type": "code",
   "execution_count": 17,
   "id": "d6cd3070",
   "metadata": {},
   "outputs": [
    {
     "data": {
      "text/plain": [
       "torch.Size([1, 16, 11, 11])"
      ]
     },
     "execution_count": 17,
     "metadata": {},
     "output_type": "execute_result"
    }
   ],
   "source": [
    "x.shape # again we didnt set padding, we lose 2px around the image"
   ]
  },
  {
   "cell_type": "code",
   "execution_count": 18,
   "id": "9959f639",
   "metadata": {},
   "outputs": [],
   "source": [
    "x = F.max_pool2d(x, 2, 2)"
   ]
  },
  {
   "cell_type": "code",
   "execution_count": 19,
   "id": "75e6dcea",
   "metadata": {},
   "outputs": [
    {
     "data": {
      "text/plain": [
       "torch.Size([1, 16, 5, 5])"
      ]
     },
     "execution_count": 19,
     "metadata": {},
     "output_type": "execute_result"
    }
   ],
   "source": [
    "x.shape"
   ]
  },
  {
   "cell_type": "code",
   "execution_count": 20,
   "id": "878420ef",
   "metadata": {},
   "outputs": [],
   "source": [
    "# Model class\n",
    "class convolutionalNetwork(nn.Module):\n",
    "    def __init__(self):\n",
    "        super().__init__()\n",
    "        self.conv1 = nn.Conv2d(1, 6, 3, 1)\n",
    "        self.conv2 = nn.Conv2d(6, 16, 3, 1)\n",
    "       \n",
    "        # Fully connected layer\n",
    "        self.fc1 = nn.Linear(5*5*16 ,120)\n",
    "        self.fc2 = nn.Linear(120, 84)\n",
    "        self.fc3 = nn.Linear(84, 10)\n",
    "        \n",
    "    def forward(self, X):\n",
    "        X = F.relu(self.conv1(X))\n",
    "        X = F.max_pool2d(X, 2, 2)\n",
    "        # Second pass\n",
    "        X = F.relu(self.conv2(X))\n",
    "        X = F.max_pool2d(X, 2, 2)\n",
    "        \n",
    "        # Re-view to flatten it out\n",
    "        X = X.view(-1, 5*5*16) # negative 1, so that we can vary batch size\n",
    "        \n",
    "        # Fully connected layer\n",
    "        X = F.relu(self.fc1(X))\n",
    "        X = F.relu(self.fc2(X))\n",
    "        X = self.fc3(X)\n",
    "        return F.log_softmax(X, dim=1)\n",
    "        \n",
    "        "
   ]
  },
  {
   "cell_type": "code",
   "execution_count": 21,
   "id": "c2fa39b2",
   "metadata": {},
   "outputs": [
    {
     "data": {
      "text/plain": [
       "convolutionalNetwork(\n",
       "  (conv1): Conv2d(1, 6, kernel_size=(3, 3), stride=(1, 1))\n",
       "  (conv2): Conv2d(6, 16, kernel_size=(3, 3), stride=(1, 1))\n",
       "  (fc1): Linear(in_features=400, out_features=120, bias=True)\n",
       "  (fc2): Linear(in_features=120, out_features=84, bias=True)\n",
       "  (fc3): Linear(in_features=84, out_features=10, bias=True)\n",
       ")"
      ]
     },
     "execution_count": 21,
     "metadata": {},
     "output_type": "execute_result"
    }
   ],
   "source": [
    "# Create an instance of our model\n",
    "torch.manual_seed(41)\n",
    "model = convolutionalNetwork()\n",
    "model"
   ]
  },
  {
   "cell_type": "code",
   "execution_count": 22,
   "id": "2194f92b",
   "metadata": {},
   "outputs": [],
   "source": [
    "# Loss functionn optimizer\n",
    "criterion = nn.CrossEntropyLoss()\n",
    "optimizer = torch.optim.Adam(model.parameters(), lr=0.001) # Smaller the Learning Rate, longer its gonna take to train."
   ]
  },
  {
   "cell_type": "code",
   "execution_count": 27,
   "id": "2227439e",
   "metadata": {},
   "outputs": [
    {
     "name": "stdout",
     "output_type": "stream",
     "text": [
      "Epoch: 0  Batch: 600  Loss: 0.1623609960079193\n",
      "Epoch: 0  Batch: 1200  Loss: 0.16026657819747925\n",
      "Epoch: 0  Batch: 1800  Loss: 0.49889492988586426\n",
      "Epoch: 0  Batch: 2400  Loss: 0.11830595880746841\n",
      "Epoch: 0  Batch: 3000  Loss: 0.0061146290972828865\n",
      "Epoch: 0  Batch: 3600  Loss: 0.238155797123909\n",
      "Epoch: 0  Batch: 4200  Loss: 0.003644376527518034\n",
      "Epoch: 0  Batch: 4800  Loss: 0.0021698237396776676\n",
      "Epoch: 0  Batch: 5400  Loss: 0.07755373418331146\n",
      "Epoch: 0  Batch: 6000  Loss: 0.0002884259447455406\n",
      "Epoch: 1  Batch: 600  Loss: 0.026902830228209496\n",
      "Epoch: 1  Batch: 1200  Loss: 0.008197079412639141\n",
      "Epoch: 1  Batch: 1800  Loss: 0.0019051560666412115\n",
      "Epoch: 1  Batch: 2400  Loss: 0.004397055599838495\n",
      "Epoch: 1  Batch: 3000  Loss: 0.00010866493539651856\n",
      "Epoch: 1  Batch: 3600  Loss: 0.004198158625513315\n",
      "Epoch: 1  Batch: 4200  Loss: 0.0005931697087362409\n",
      "Epoch: 1  Batch: 4800  Loss: 0.009555033408105373\n",
      "Epoch: 1  Batch: 5400  Loss: 0.00034579209750518203\n",
      "Epoch: 1  Batch: 6000  Loss: 0.0003026198537554592\n",
      "Epoch: 2  Batch: 600  Loss: 0.08663486689329147\n",
      "Epoch: 2  Batch: 1200  Loss: 0.00880410149693489\n",
      "Epoch: 2  Batch: 1800  Loss: 0.00042296317405998707\n",
      "Epoch: 2  Batch: 2400  Loss: 0.0017990635242313147\n",
      "Epoch: 2  Batch: 3000  Loss: 0.36851876974105835\n",
      "Epoch: 2  Batch: 3600  Loss: 0.0005326519021764398\n",
      "Epoch: 2  Batch: 4200  Loss: 0.03681715577840805\n",
      "Epoch: 2  Batch: 4800  Loss: 0.008154641836881638\n",
      "Epoch: 2  Batch: 5400  Loss: 0.033299848437309265\n",
      "Epoch: 2  Batch: 6000  Loss: 0.0004486727120820433\n",
      "Epoch: 3  Batch: 600  Loss: 0.001948844874277711\n",
      "Epoch: 3  Batch: 1200  Loss: 0.005055479239672422\n",
      "Epoch: 3  Batch: 1800  Loss: 0.19659766554832458\n",
      "Epoch: 3  Batch: 2400  Loss: 0.002532689366489649\n",
      "Epoch: 3  Batch: 3000  Loss: 0.0005024554557166994\n",
      "Epoch: 3  Batch: 3600  Loss: 0.005152284167706966\n",
      "Epoch: 3  Batch: 4200  Loss: 0.0018768419977277517\n",
      "Epoch: 3  Batch: 4800  Loss: 0.0017275325953960419\n",
      "Epoch: 3  Batch: 5400  Loss: 0.015772152692079544\n",
      "Epoch: 3  Batch: 6000  Loss: 0.00045393407344818115\n",
      "Epoch: 4  Batch: 600  Loss: 0.00040407496271654963\n",
      "Epoch: 4  Batch: 1200  Loss: 0.0002936953096650541\n",
      "Epoch: 4  Batch: 1800  Loss: 0.008056322112679482\n",
      "Epoch: 4  Batch: 2400  Loss: 0.0006139095639809966\n",
      "Epoch: 4  Batch: 3000  Loss: 0.0027122574392706156\n",
      "Epoch: 4  Batch: 3600  Loss: 0.027450695633888245\n",
      "Epoch: 4  Batch: 4200  Loss: 0.03123604692518711\n",
      "Epoch: 4  Batch: 4800  Loss: 0.0025164131075143814\n",
      "Epoch: 4  Batch: 5400  Loss: 0.005099379923194647\n",
      "Epoch: 4  Batch: 6000  Loss: 0.06537887454032898\n",
      "Training took 5.872312768300374 minutes!\n"
     ]
    }
   ],
   "source": [
    "import time\n",
    "start_time = time.time()\n",
    "epochs = 5\n",
    "train_losses = []\n",
    "test_losses = []\n",
    "train_correct = []\n",
    "test_correct = []\n",
    "\n",
    "for i in range(epochs):\n",
    "    trn_corr = 0\n",
    "    tst_corr = 0\n",
    "    \n",
    "    for b,(X_train, y_train) in enumerate(train_loader):\n",
    "        b+=1\n",
    "        y_pred = model(X_train)\n",
    "        loss = criterion(y_pred, y_train)\n",
    "        predicted = torch.max(y_pred.data, 1)[1]\n",
    "        batch_corr = (predicted==y_train).sum()\n",
    "        trn_corr += batch_corr # keep track as we go along in training.\n",
    "        \n",
    "        # Update our parameters\n",
    "        optimizer.zero_grad()\n",
    "        loss.backward()\n",
    "        optimizer.step()\n",
    "        \n",
    "        # Print out some results\n",
    "        if b%600 == 0:\n",
    "            print(f'Epoch: {i}  Batch: {b}  Loss: {loss.item()}')\n",
    "        \n",
    "    train_losses.append(loss)\n",
    "    train_correct.append(trn_corr)\n",
    "        \n",
    "    # Test\n",
    "    with torch.no_grad(): #No gradient so we don't update our weights and biases with test data\n",
    "        for b,(X_test, y_test) in enumerate(train_loader):\n",
    "          y_val = model(X_test)\n",
    "          predicted = torch.max(y_val.data, 1)[1] # Adding up correct predictions\n",
    "          tst_corr += (predicted == y_test).sum() # T=1 F=0 and sum away\n",
    "    \n",
    "    loss = criterion(y_val, y_test)\n",
    "    test_losses.append(loss)\n",
    "    test_correct.append(tst_corr)\n",
    "\n",
    "\n",
    "\n",
    "\n",
    "\n",
    "\n",
    "current_time = time.time()\n",
    "total_time = current_time - start_time\n",
    "print(f\"Training took {total_time/60} minutes!\")"
   ]
  },
  {
   "cell_type": "code",
   "execution_count": 28,
   "id": "5b886a12",
   "metadata": {},
   "outputs": [
    {
     "data": {
      "text/plain": [
       "<matplotlib.legend.Legend at 0x18f2c4ea690>"
      ]
     },
     "execution_count": 28,
     "metadata": {},
     "output_type": "execute_result"
    },
    {
     "data": {
      "image/png": "[encoded data removed]",
      "text/plain": [
       "<Figure size 640x480 with 1 Axes>"
      ]
     },
     "metadata": {},
     "output_type": "display_data"
    }
   ],
   "source": [
    "# Graph the loss at epoch\n",
    "train_losses = [tl.item() for tl in train_losses]\n",
    "plt.plot(train_losses, label=\"Training Loss\")\n",
    "plt.plot(test_losses, label=\"Validation Loss\")\n",
    "plt.title(\"Loss at Epoch\")\n",
    "plt.legend()  "
   ]
  },
  {
   "cell_type": "code",
   "execution_count": 29,
   "id": "b08bdd59",
   "metadata": {},
   "outputs": [
    {
     "data": {
      "text/plain": [
       "<matplotlib.legend.Legend at 0x18f2d65e990>"
      ]
     },
     "execution_count": 29,
     "metadata": {},
     "output_type": "execute_result"
    },
    {
     "data": {
      "image/png": "[encoded data removed]",
      "text/plain": [
       "<Figure size 640x480 with 1 Axes>"
      ]
     },
     "metadata": {},
     "output_type": "display_data"
    }
   ],
   "source": [
    "# graph the accuracy at the end of each epoch\n",
    "plt.plot([t/600 for t in train_correct], label=\"Training Accuracy\")\n",
    "plt.plot([t/100 for t in test_correct], label=\"Validation Accuracy\")\n",
    "plt.title(\"Accuracy at the end of each Epoch\")\n",
    "plt.legend()\n",
    "     "
   ]
  },
  {
   "cell_type": "code",
   "execution_count": null,
   "id": "82a740c4",
   "metadata": {},
   "outputs": [],
   "source": []
  }
 ],
 "metadata": {
  "kernelspec": {
   "display_name": "Python 3 (ipykernel)",
   "language": "python",
   "name": "python3"
  },
  "language_info": {
   "codemirror_mode": {
    "name": "ipython",
    "version": 3
   },
   "file_extension": ".py",
   "mimetype": "text/x-python",
   "name": "python",
   "nbconvert_exporter": "python",
   "pygments_lexer": "ipython3",
   "version": "3.11.7"
  }
 },
 "nbformat": 4,
 "nbformat_minor": 5
}
